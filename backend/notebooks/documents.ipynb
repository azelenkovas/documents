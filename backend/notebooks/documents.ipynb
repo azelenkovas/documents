{
 "cells": [
  {
   "cell_type": "code",
   "execution_count": 1,
   "metadata": {},
   "outputs": [],
   "source": [
    "import os\n",
    "import sys\n",
    "sys.path.append('..')\n",
    "from app import pdfs\n"
   ]
  },
  {
   "cell_type": "code",
   "execution_count": 2,
   "metadata": {},
   "outputs": [
    {
     "data": {
      "text/plain": [
       "'.'"
      ]
     },
     "execution_count": 2,
     "metadata": {},
     "output_type": "execute_result"
    }
   ],
   "source": [
    "os.path.curdir"
   ]
  },
  {
   "cell_type": "code",
   "execution_count": 6,
   "metadata": {},
   "outputs": [
    {
     "data": {
      "text/plain": [
       "DocumentStatus(categorized_documents=[], uncategorized_documents=[])"
      ]
     },
     "execution_count": 6,
     "metadata": {},
     "output_type": "execute_result"
    }
   ],
   "source": [
    "pdfs('http://localhost:8000', '/home/az/workspace/documents')"
   ]
  },
  {
   "cell_type": "code",
   "execution_count": 8,
   "metadata": {},
   "outputs": [
    {
     "data": {
      "text/plain": [
       "['/home/az/workspace/documents/backend/docs/uncategorized/uncategorized_7.pdf',\n",
       " '/home/az/workspace/documents/backend/docs/uncategorized/uncategorized_5.pdf',\n",
       " '/home/az/workspace/documents/backend/docs/uncategorized/uncategorized_0.pdf',\n",
       " '/home/az/workspace/documents/backend/docs/uncategorized/uncategorized_8.pdf',\n",
       " '/home/az/workspace/documents/backend/docs/uncategorized/uncategorized_1.pdf',\n",
       " '/home/az/workspace/documents/backend/docs/uncategorized/uncategorized_4.pdf',\n",
       " '/home/az/workspace/documents/backend/docs/uncategorized/uncategorized_3.pdf',\n",
       " '/home/az/workspace/documents/backend/docs/uncategorized/uncategorized_9.pdf',\n",
       " '/home/az/workspace/documents/backend/docs/uncategorized/uncategorized_2.pdf',\n",
       " '/home/az/workspace/documents/backend/docs/uncategorized/uncategorized_6.pdf',\n",
       " '/home/az/workspace/documents/backend/docs/categories/category3/category3_2.pdf',\n",
       " '/home/az/workspace/documents/backend/docs/categories/category3/category3_0.pdf',\n",
       " '/home/az/workspace/documents/backend/docs/categories/category3/category3_1.pdf',\n",
       " '/home/az/workspace/documents/backend/docs/categories/category3/category3_4.pdf',\n",
       " '/home/az/workspace/documents/backend/docs/categories/category3/category3_3.pdf',\n",
       " '/home/az/workspace/documents/backend/docs/categories/category2/category2_2.pdf',\n",
       " '/home/az/workspace/documents/backend/docs/categories/category2/category2_3.pdf',\n",
       " '/home/az/workspace/documents/backend/docs/categories/category2/category2_0.pdf',\n",
       " '/home/az/workspace/documents/backend/docs/categories/category2/category2_1.pdf',\n",
       " '/home/az/workspace/documents/backend/docs/categories/category2/category2_4.pdf',\n",
       " '/home/az/workspace/documents/backend/docs/categories/category1/category1_2.pdf',\n",
       " '/home/az/workspace/documents/backend/docs/categories/category1/category1_1.pdf',\n",
       " '/home/az/workspace/documents/backend/docs/categories/category1/category1_3.pdf',\n",
       " '/home/az/workspace/documents/backend/docs/categories/category1/category1_0.pdf',\n",
       " '/home/az/workspace/documents/backend/docs/categories/category1/category1_4.pdf']"
      ]
     },
     "execution_count": 8,
     "metadata": {},
     "output_type": "execute_result"
    }
   ],
   "source": [
    "import glob\n",
    "\n",
    "glob.glob(os.path.join('/home/az/workspace/documents', '**/*.pdf'), recursive=True)"
   ]
  }
 ],
 "metadata": {
  "kernelspec": {
   "display_name": "python312",
   "language": "python",
   "name": "python3"
  },
  "language_info": {
   "codemirror_mode": {
    "name": "ipython",
    "version": 3
   },
   "file_extension": ".py",
   "mimetype": "text/x-python",
   "name": "python",
   "nbconvert_exporter": "python",
   "pygments_lexer": "ipython3",
   "version": "3.12.7"
  }
 },
 "nbformat": 4,
 "nbformat_minor": 2
}
